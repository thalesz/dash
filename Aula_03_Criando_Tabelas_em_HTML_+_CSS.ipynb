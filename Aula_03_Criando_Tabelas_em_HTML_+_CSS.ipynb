{
  "nbformat": 4,
  "nbformat_minor": 0,
  "metadata": {
    "colab": {
      "provenance": [],
      "authorship_tag": "ABX9TyPLqxJ+nCpRPhsv57ZLMQZB",
      "include_colab_link": true
    },
    "kernelspec": {
      "name": "python3",
      "display_name": "Python 3"
    },
    "language_info": {
      "name": "python"
    }
  },
  "cells": [
    {
      "cell_type": "markdown",
      "metadata": {
        "id": "view-in-github",
        "colab_type": "text"
      },
      "source": [
        "<a href=\"https://colab.research.google.com/github/thalesz/dash/blob/main/Aula_03_Criando_Tabelas_em_HTML_%2B_CSS.ipynb\" target=\"_parent\"><img src=\"https://colab.research.google.com/assets/colab-badge.svg\" alt=\"Open In Colab\"/></a>"
      ]
    },
    {
      "cell_type": "code",
      "execution_count": 1,
      "metadata": {
        "colab": {
          "base_uri": "https://localhost:8080/",
          "height": 141
        },
        "id": "DXrWivSHQ97_",
        "outputId": "5b897911-0395-4c35-e335-689fde17b10c"
      },
      "outputs": [
        {
          "output_type": "execute_result",
          "data": {
            "text/plain": [
              "<IPython.core.display.HTML object>"
            ],
            "text/html": [
              "\n",
              "\n",
              "<h1> Título </h1>\n",
              "<table> \n",
              "  <tr>\n",
              "    <th>C1</th>\n",
              "    <th>C2</th>\n",
              "  </tr>\n",
              "  <tr>\n",
              "    <td>(1,1)</td>\n",
              "    <td>(1,2)</td>\n",
              "  </tr>\n",
              "  <tr>\n",
              "    <td>(2,1)</td>\n",
              "    <td>(2,2)</td>\n",
              "  </tr>\n",
              "\n",
              "</table>"
            ]
          },
          "metadata": {},
          "execution_count": 1
        }
      ],
      "source": [
        "from IPython.display import HTML\n",
        "table ='''\n",
        "\n",
        "<h1> Título </h1>\n",
        "<table> \n",
        "  <tr>\n",
        "    <th>C1</th> #t-header\n",
        "    <th>C2</th>\n",
        "  </tr>\n",
        "  <tr>\n",
        "    <td>(1,1)</td>\n",
        "    <td>(1,2)</td>\n",
        "  </tr>\n",
        "  <tr>\n",
        "    <td>(2,1)</td>\n",
        "    <td>(2,2)</td>\n",
        "  </tr>\n",
        "\n",
        "</table>'''\n",
        "\n",
        "HTML(table)"
      ]
    },
    {
      "cell_type": "code",
      "source": [
        "from IPython.display import HTML\n",
        "\n",
        "estilo = '''<style>\n",
        "  th{\n",
        "    background-color:#55FF33;\n",
        "  }\n",
        "  td{\n",
        "    background-color: #00FFFF;\n",
        "  }\n",
        "  h1{\n",
        "    background-color: #80CED6;\n",
        "  }\n",
        "  body{\n",
        "    margin:10px;\n",
        "  }\n",
        "\n",
        "</style>\n",
        "'''\n",
        "\n",
        "\n",
        "table =''' \n",
        "<h1> Título </h1>  %s\n",
        "<table> \n",
        "  <tr>\n",
        "    <th>C1</th> \n",
        "    <th>C2</th>\n",
        "  </tr>\n",
        "  <tr>\n",
        "    <td>(1,1)</td>\n",
        "    <td>(1,2)</td>\n",
        "  </tr>\n",
        "  <tr>\n",
        "    <td>(2,1)</td>\n",
        "    <td>(2,2)</td>\n",
        "  </tr>\n",
        "\n",
        "</table>'''\n",
        "\n",
        "whole = table % estilo\n",
        "HTML(whole)"
      ],
      "metadata": {
        "colab": {
          "base_uri": "https://localhost:8080/",
          "height": 141
        },
        "id": "io9L64GfS_NS",
        "outputId": "a3bf956a-17b5-4039-e156-b133bede4340"
      },
      "execution_count": 7,
      "outputs": [
        {
          "output_type": "execute_result",
          "data": {
            "text/plain": [
              "<IPython.core.display.HTML object>"
            ],
            "text/html": [
              " \n",
              "<h1> Título </h1>  <style>\n",
              "  th{\n",
              "    background-color:#55FF33;\n",
              "  }\n",
              "  td{\n",
              "    background-color: #00FFFF;\n",
              "  }\n",
              "  h1{\n",
              "    background-color: #80CED6;\n",
              "  }\n",
              "  body{\n",
              "    margin:10px;\n",
              "  }\n",
              "\n",
              "</style>\n",
              "\n",
              "<table> \n",
              "  <tr>\n",
              "    <th>C1</th> \n",
              "    <th>C2</th>\n",
              "  </tr>\n",
              "  <tr>\n",
              "    <td>(1,1)</td>\n",
              "    <td>(1,2)</td>\n",
              "  </tr>\n",
              "  <tr>\n",
              "    <td>(2,1)</td>\n",
              "    <td>(2,2)</td>\n",
              "  </tr>\n",
              "\n",
              "</table>"
            ]
          },
          "metadata": {},
          "execution_count": 7
        }
      ]
    }
  ]
}
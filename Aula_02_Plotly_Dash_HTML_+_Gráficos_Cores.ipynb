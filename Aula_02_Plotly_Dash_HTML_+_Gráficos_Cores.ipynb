{
  "nbformat": 4,
  "nbformat_minor": 0,
  "metadata": {
    "colab": {
      "provenance": [],
      "authorship_tag": "ABX9TyMgfH5IK+0cYkWZTn0A/IwI",
      "include_colab_link": true
    },
    "kernelspec": {
      "name": "python3",
      "display_name": "Python 3"
    },
    "language_info": {
      "name": "python"
    }
  },
  "cells": [
    {
      "cell_type": "markdown",
      "metadata": {
        "id": "view-in-github",
        "colab_type": "text"
      },
      "source": [
        "<a href=\"https://colab.research.google.com/github/thalesz/dash/blob/main/Aula_02_Plotly_Dash_HTML_%2B_Gr%C3%A1ficos_Cores.ipynb\" target=\"_parent\"><img src=\"https://colab.research.google.com/assets/colab-badge.svg\" alt=\"Open In Colab\"/></a>"
      ]
    },
    {
      "cell_type": "code",
      "execution_count": null,
      "metadata": {
        "id": "lfsXjn6kkOom"
      },
      "outputs": [],
      "source": [
        "!pip install jupyter-dash"
      ]
    },
    {
      "cell_type": "code",
      "source": [
        "from jupyter_dash import JupyterDash\n",
        "import dash_core_components as dcc\n",
        "import dash_html_components as html\n",
        "from dash import html as html \n",
        "import plotly.express as px\n",
        "import pandas as pd \n"
      ],
      "metadata": {
        "id": "-CDlZExxkXqW"
      },
      "execution_count": 14,
      "outputs": []
    },
    {
      "cell_type": "code",
      "source": [
        "df = pd.DataFrame({\n",
        "    \"Frutas\": [\"Maçãs\", \"Laranjas\", \"Bananas\", \"Maçãs\", \"Laranjas\", \"Bananas\"],\n",
        "    \"Qtd\": [4,1,2,2,4,5],\n",
        "    \"UF\": [\"RJ\", \"RJ\", \"RJ\", \"SP\",\"SP\",\"SP\"]\n",
        "})\n",
        "\n",
        "df"
      ],
      "metadata": {
        "id": "9-iVigvrlKI3"
      },
      "execution_count": null,
      "outputs": []
    },
    {
      "cell_type": "code",
      "source": [
        "external_stylesheets = ['https://codepen.io/chriddyp/pen/bWLwgP.css']\n",
        "app = JupyterDash(__name__,external_stylesheets = external_stylesheets) #sempre fazer assim\n",
        "\n",
        "colors = {\n",
        "    'background': '#111111',\n",
        "    'text': '#7FDBFF'\n",
        "}\n",
        "fig = px.bar(df, x=\"Frutas\", y=\"Qtd\", color=\"UF\",barmode ='group')\n",
        "fig.update_layout(\n",
        "    plot_bgcolor=colors['background'],\n",
        "    paper_bgcolor=colors['background'],\n",
        "    font_color=colors['text']\n",
        ")#atualizar o layout\n",
        "\n",
        "app.layout = html.Div(\n",
        "    style={'backgroundColor':colors['background']}, \n",
        "    children=[\n",
        "    \n",
        "    html.H1(children='Oi Dash!',\n",
        "            style={\n",
        "                'textAlign': 'center',\n",
        "                'color':colors['text']\n",
        "            }\n",
        "            ),\n",
        "    html.Div(children='''Dash para aplicativos web com Python''', \n",
        "            style={\n",
        "                'textAlign': 'center',\n",
        "                'color':colors['text']\n",
        "            }\n",
        "    ), #comentário\n",
        "    dcc.Graph(\n",
        "        id='example.graph',\n",
        "        figure=fig \n",
        "    )\n",
        "\n",
        "  ]\n",
        ")"
      ],
      "metadata": {
        "id": "SQmC-ML0mJkU"
      },
      "execution_count": 22,
      "outputs": []
    },
    {
      "cell_type": "code",
      "source": [
        "app.run_server(mode='external')"
      ],
      "metadata": {
        "colab": {
          "base_uri": "https://localhost:8080/",
          "height": 52
        },
        "id": "5oAMKWGtnbwP",
        "outputId": "98a392a6-bc21-4e22-ae5a-fbf04c1ffa29"
      },
      "execution_count": 23,
      "outputs": [
        {
          "output_type": "stream",
          "name": "stdout",
          "text": [
            "Dash app running on:\n"
          ]
        },
        {
          "output_type": "display_data",
          "data": {
            "text/plain": [
              "<IPython.core.display.Javascript object>"
            ],
            "application/javascript": [
              "(async (port, path, text, element) => {\n",
              "    if (!google.colab.kernel.accessAllowed) {\n",
              "      return;\n",
              "    }\n",
              "    element.appendChild(document.createTextNode(''));\n",
              "    const url = await google.colab.kernel.proxyPort(port);\n",
              "    const anchor = document.createElement('a');\n",
              "    anchor.href = new URL(path, url).toString();\n",
              "    anchor.target = '_blank';\n",
              "    anchor.setAttribute('data-href', url + path);\n",
              "    anchor.textContent = text;\n",
              "    element.appendChild(anchor);\n",
              "  })(8050, \"/\", \"http://127.0.0.1:8050/\", window.element)"
            ]
          },
          "metadata": {}
        }
      ]
    }
  ]
}